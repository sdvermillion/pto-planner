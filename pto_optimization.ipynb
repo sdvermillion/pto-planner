{
 "cells": [
  {
   "cell_type": "code",
   "execution_count": 1,
   "metadata": {},
   "outputs": [],
   "source": [
    "import numpy as np\n",
    "import pandas as pd\n",
    "\n",
    "from sklearn.preprocessing import LabelEncoder\n",
    "\n",
    "from ortools.linear_solver import pywraplp"
   ]
  },
  {
   "cell_type": "markdown",
   "metadata": {},
   "source": [
    "# Defining data inputs"
   ]
  },
  {
   "cell_type": "markdown",
   "metadata": {},
   "source": [
    "## Defining number of PTO days"
   ]
  },
  {
   "cell_type": "markdown",
   "metadata": {},
   "source": [
    "This one is easy but must be defined somewhere: the total number of PTO days we get in a year.  We'll store this in a variable:"
   ]
  },
  {
   "cell_type": "code",
   "execution_count": 2,
   "metadata": {},
   "outputs": [],
   "source": [
    "D_PTO = 20"
   ]
  },
  {
   "cell_type": "markdown",
   "metadata": {},
   "source": [
    "Here, I set our number of PTO days to 20 but it can be set to anything that is applicable to you."
   ]
  },
  {
   "cell_type": "markdown",
   "metadata": {},
   "source": [
    "## Defining given days off"
   ]
  },
  {
   "cell_type": "markdown",
   "metadata": {},
   "source": [
    "We need to identify the days in the year that we get off for \"free\", i.e. days where we wouldn't have to spend a PTO day.  These freedays could include federal/bank/company holidays and weekends.  Let's start by creating a pandas dataframe of all the days of the year:"
   ]
  },
  {
   "cell_type": "code",
   "execution_count": 3,
   "metadata": {},
   "outputs": [],
   "source": [
    "yearSeries = pd.date_range('2023-01-01', '2023-12-31', freq='D').to_series()\n",
    "yearDF = pd.DataFrame(yearSeries, columns = ['Day'])\n",
    "yearDF['Day of Year'] = yearDF['Day'].dt.dayofyear"
   ]
  },
  {
   "cell_type": "markdown",
   "metadata": {},
   "source": [
    "In yearDF, each row is a day of the year, and we have a column for the date of that day (\"Day\") and what day of the year that day is (\"Day of Year\").\n",
    "\n",
    "Next, we can create a new column called \"Freeday\" that will act as a flag if a particular day is a freeday.  We start below with a list of the days we have free as company holidays, then set their value in the \"Freeday\" column of the dataframe as true:"
   ]
  },
  {
   "cell_type": "code",
   "execution_count": 4,
   "metadata": {},
   "outputs": [],
   "source": [
    "company_holidays = [\n",
    "    '2023-01-02',\n",
    "    '2023-01-16',\n",
    "    '2023-04-07',\n",
    "    '2023-04-10',\n",
    "    '2023-05-29',\n",
    "    '2023-07-03',\n",
    "    '2023-07-04',\n",
    "    '2023-09-04',\n",
    "    '2023-11-10',\n",
    "    '2023-11-23',\n",
    "    '2023-11-24',\n",
    "    '2023-12-25',\n",
    "    '2023-12-26',\n",
    "    '2023-12-27',\n",
    "    '2023-12-28',\n",
    "    '2023-12-29',\n",
    "]\n",
    "\n",
    "yearDF['Freeday'] = yearDF['Day'].isin(pd.to_datetime(company_holidays))"
   ]
  },
  {
   "cell_type": "markdown",
   "metadata": {},
   "source": [
    "These are example days and should be changed to whatever is applicable to you."
   ]
  },
  {
   "cell_type": "markdown",
   "metadata": {},
   "source": [
    "Now we find all the Saturdays (day 5 of the week) and all Sundays (day 6 of the week) and set them to be freedays as well:"
   ]
  },
  {
   "cell_type": "code",
   "execution_count": 5,
   "metadata": {},
   "outputs": [],
   "source": [
    "yearDF.loc[(yearDF['Day'].dt.dayofweek == 6)|(yearDF['Day'].dt.dayofweek == 5), 'Freeday'] = True"
   ]
  },
  {
   "cell_type": "markdown",
   "metadata": {},
   "source": [
    "## Defining trip options"
   ]
  },
  {
   "cell_type": "markdown",
   "metadata": {},
   "source": [
    "To serve as example trip options, I collected over a thousand trips offered by G Adventures in 2023.  We will go over how I did this programmatically in a future post ;).  Trip data includes the itinerary name, the start day of year, and the end day of year.  I saved this data in a *.csv file that we can import:"
   ]
  },
  {
   "cell_type": "code",
   "execution_count": 6,
   "metadata": {},
   "outputs": [],
   "source": [
    "tripsDF = pd.read_csv('trips/trips.csv')"
   ]
  },
  {
   "cell_type": "markdown",
   "metadata": {},
   "source": [
    "I have my *.csv file in a folder called trips so point to that folder and file in this line of code."
   ]
  },
  {
   "cell_type": "markdown",
   "metadata": {},
   "source": [
    "# Defining our constraints"
   ]
  },
  {
   "cell_type": "markdown",
   "metadata": {},
   "source": [
    "## Constraint 1: PTO Day Limit"
   ]
  },
  {
   "cell_type": "markdown",
   "metadata": {},
   "source": [
    "Recall our first constraint where we can't go over our PTO limit:\n",
    "\n",
    "\\begin{equation}\n",
    "\\mathbf{w}^T \\mathbf{A}\\mathbf{x} \\leq D_{PTO}\n",
    "\\end{equation}\n",
    "\n",
    "where $\\mathbf{w}$ is a vector defining workdays vs. freedays and $\\mathbf{A}$ is a matrix defining when trips occur during the year.\n",
    "\n",
    "Let's create $\\mathbf{w}$ using our \"Freeday\" flag in yearDF below:"
   ]
  },
  {
   "cell_type": "code",
   "execution_count": 7,
   "metadata": {},
   "outputs": [],
   "source": [
    "w = np.ones(365)\n",
    "w[yearDF.loc[yearDF['Freeday'], 'Day of Year'] - 1] = 0"
   ]
  },
  {
   "cell_type": "markdown",
   "metadata": {},
   "source": [
    "Note that we are subtracting one from the \"Day of Year\" because day of year starts with 1 but our indices for $\\mathbf{w}$ start with 0.\n",
    "\n",
    "Now we create $\\mathbf{A}$ :"
   ]
  },
  {
   "cell_type": "code",
   "execution_count": 8,
   "metadata": {},
   "outputs": [],
   "source": [
    "A = np.zeros((365, len(tripsDF)))\n",
    "for trip_index, row in tripsDF.iterrows():\n",
    "    day_range = np.arange(row['start_doy'], row['end_doy'] + 1)\n",
    "    A[day_range - 1, trip_index] = 1"
   ]
  },
  {
   "cell_type": "markdown",
   "metadata": {},
   "source": [
    "Here, we iterate through each trip, find its start and end days, and set the corresponding row values in the trip's column to 1."
   ]
  },
  {
   "cell_type": "markdown",
   "metadata": {},
   "source": [
    "## Constraint 2: Only 1 Trip at a Time"
   ]
  },
  {
   "cell_type": "markdown",
   "metadata": {},
   "source": [
    "Recall the second constraint that keeps us from recommending two trips that happen at the same time:\n",
    "\n",
    "\\begin{equation}\n",
    "\\mathbf{A} \\mathbf{x} \\leq \\mathbf{1}_{365}\n",
    "\\end{equation}\n",
    "\n",
    "Since we already created $\\mathbf{A}$ for the first constraint, we just need to create the vector $\\mathbf{1}_{365}$:"
   ]
  },
  {
   "cell_type": "code",
   "execution_count": 9,
   "metadata": {},
   "outputs": [],
   "source": [
    "Ones_365 = np.ones(365)"
   ]
  },
  {
   "cell_type": "markdown",
   "metadata": {},
   "source": [
    "Simple..."
   ]
  },
  {
   "cell_type": "markdown",
   "metadata": {},
   "source": [
    "## Constraint 3: No repeats"
   ]
  },
  {
   "cell_type": "markdown",
   "metadata": {},
   "source": [
    "The third constraint keeps us from choosing the same itinerary multiple times in a year:\n",
    "\n",
    "\\begin{equation}\n",
    "\\mathbf{B} \\mathbf{x} \\leq \\mathbf{1}_{T}\n",
    "\\end{equation}\n",
    "To construct $\\mathbf{B}$, we need to group trips by their itineraries.  Below, we use scikit-learn's LabelEncoder to assign a numerical ID to each itinerary:"
   ]
  },
  {
   "cell_type": "code",
   "execution_count": 10,
   "metadata": {},
   "outputs": [],
   "source": [
    "itineraryID = LabelEncoder().fit_transform(tripsDF['itinerary_name'])"
   ]
  },
  {
   "cell_type": "markdown",
   "metadata": {},
   "source": [
    "Next, we iterate through the trips in the tripsDF dataframe to assign each trip to an itinerary as captured by $\\mathbf{B}$:"
   ]
  },
  {
   "cell_type": "code",
   "execution_count": 11,
   "metadata": {},
   "outputs": [],
   "source": [
    "B = np.zeros((tripsDF['itinerary_name'].nunique(), len(tripsDF)))\n",
    "for index, row in tripsDF.iterrows():\n",
    "    B[itineraryID[index], index] = 1"
   ]
  },
  {
   "cell_type": "markdown",
   "metadata": {},
   "source": [
    "Finally, we create a vector of ones that is as along as the number of unique itineraries we have in our trip set:"
   ]
  },
  {
   "cell_type": "code",
   "execution_count": 12,
   "metadata": {},
   "outputs": [],
   "source": [
    "Ones_T = np.ones(tripsDF['itinerary_name'].nunique())"
   ]
  },
  {
   "cell_type": "markdown",
   "metadata": {},
   "source": [
    "# Putting it together"
   ]
  },
  {
   "cell_type": "code",
   "execution_count": 13,
   "metadata": {},
   "outputs": [],
   "source": [
    "data = {}"
   ]
  },
  {
   "cell_type": "code",
   "execution_count": 14,
   "metadata": {},
   "outputs": [],
   "source": [
    "data['num_vars'] = (w@A).shape[0]"
   ]
  },
  {
   "cell_type": "code",
   "execution_count": 15,
   "metadata": {},
   "outputs": [],
   "source": [
    "data['constraint_coeffs'] = np.vstack((\n",
    "    w.T@A,\n",
    "    A,\n",
    "    B\n",
    "))"
   ]
  },
  {
   "cell_type": "code",
   "execution_count": 16,
   "metadata": {},
   "outputs": [],
   "source": [
    "data['bounds'] = np.hstack((\n",
    "    20,\n",
    "    Ones_365,\n",
    "    Ones_T,\n",
    "))"
   ]
  },
  {
   "cell_type": "code",
   "execution_count": 17,
   "metadata": {},
   "outputs": [],
   "source": [
    "data['num_constraints'] = 1 + len(Ones_365) + len(Ones_T)"
   ]
  },
  {
   "cell_type": "code",
   "execution_count": 18,
   "metadata": {},
   "outputs": [],
   "source": [
    "data['obj_coeffs'] = w.T@A"
   ]
  },
  {
   "cell_type": "markdown",
   "metadata": {},
   "source": [
    "# Optimization"
   ]
  },
  {
   "cell_type": "code",
   "execution_count": 19,
   "metadata": {},
   "outputs": [],
   "source": [
    "solver = pywraplp.Solver.CreateSolver('SCIP')"
   ]
  },
  {
   "cell_type": "code",
   "execution_count": 20,
   "metadata": {},
   "outputs": [
    {
     "name": "stdout",
     "output_type": "stream",
     "text": [
      "Number of variables = 1513\n"
     ]
    }
   ],
   "source": [
    "x = {}\n",
    "for j in range(data['num_vars']):\n",
    "    x[j] = solver.IntVar(0, 1, 'x[%i]' % j)\n",
    "print('Number of variables =', solver.NumVariables())"
   ]
  },
  {
   "cell_type": "code",
   "execution_count": 21,
   "metadata": {},
   "outputs": [
    {
     "name": "stdout",
     "output_type": "stream",
     "text": [
      "Number of constraints = 420\n"
     ]
    }
   ],
   "source": [
    "for i in range(data['num_constraints']):\n",
    "    constraint = solver.RowConstraint(0, data['bounds'][i], '')\n",
    "    for j in range(data['num_vars']):\n",
    "        constraint.SetCoefficient(x[j], data['constraint_coeffs'][i][j])\n",
    "print('Number of constraints =', solver.NumConstraints())"
   ]
  },
  {
   "cell_type": "code",
   "execution_count": 22,
   "metadata": {},
   "outputs": [],
   "source": [
    "objective = solver.Objective()\n",
    "for j in range(data['num_vars']):\n",
    "    objective.SetCoefficient(x[j], data['obj_coeffs'][j])\n",
    "objective.SetMaximization()"
   ]
  },
  {
   "cell_type": "code",
   "execution_count": 23,
   "metadata": {},
   "outputs": [],
   "source": [
    "status = solver.Solve()"
   ]
  },
  {
   "cell_type": "code",
   "execution_count": 24,
   "metadata": {},
   "outputs": [
    {
     "name": "stdout",
     "output_type": "stream",
     "text": [
      "Objective value = 20.0 Vacation Days\n",
      "x[126]  =  1.0 Bangkok to Kuta: Summits & Sunsets in Malaysia, Asia - G Adventures\n",
      "\n",
      "Problem solved in 2281.000000 milliseconds\n",
      "Problem solved in 0 iterations\n",
      "Problem solved in 1 branch-and-bound nodes\n"
     ]
    }
   ],
   "source": [
    "if status == pywraplp.Solver.OPTIMAL:\n",
    "    print('Objective value =', solver.Objective().Value(), 'Vacation Days')\n",
    "    sol_ind = []\n",
    "    for j in range(data['num_vars']):\n",
    "        if x[j].solution_value() > 0:\n",
    "            sol_ind.append(j)\n",
    "            print(x[j].name(), ' = ', x[j].solution_value(), tripsDF.iloc[j]['itinerary_name'])\n",
    "    print()\n",
    "    print('Problem solved in %f milliseconds' % solver.wall_time())\n",
    "    print('Problem solved in %d iterations' % solver.iterations())\n",
    "    print('Problem solved in %d branch-and-bound nodes' % solver.nodes())\n",
    "else:\n",
    "    print('The problem does not have an optimal solution.')"
   ]
  }
 ],
 "metadata": {
  "kernelspec": {
   "display_name": "Python 3",
   "language": "python",
   "name": "python3"
  },
  "language_info": {
   "codemirror_mode": {
    "name": "ipython",
    "version": 3
   },
   "file_extension": ".py",
   "mimetype": "text/x-python",
   "name": "python",
   "nbconvert_exporter": "python",
   "pygments_lexer": "ipython3",
   "version": "3.10.13"
  }
 },
 "nbformat": 4,
 "nbformat_minor": 4
}
